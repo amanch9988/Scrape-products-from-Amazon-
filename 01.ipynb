{
 "cells": [
  {
   "cell_type": "code",
   "execution_count": 1,
   "id": "d0f9db28",
   "metadata": {},
   "outputs": [],
   "source": [
    "from bs4 import BeautifulSoup\n",
    "import requests\n",
    "import pandas as pd\n",
    "import csv"
   ]
  },
  {
   "cell_type": "code",
   "execution_count": 2,
   "id": "df490c7d",
   "metadata": {},
   "outputs": [],
   "source": [
    "def scraping_product_list(url):\n",
    "    headers = {\n",
    "        'User-Agent': 'Mozilla/5.0 (Windows NT 10.0; Win64; x64) AppleWebKit/537.36 (KHTML, like Gecko) Chrome/58.0.3029.110 Safari/537.3'}\n",
    "    response = requests.get(url, headers=headers)\n",
    "    soup = BeautifulSoup(response.content, 'html.parser')\n",
    "    product_list = []\n",
    "    \n",
    "    products = soup.find_all('div', {'data-component-type': 's-search-result'})\n",
    "    \n",
    "    for product in products:\n",
    "        product_data = {}\n",
    "        product_url = 'https://www.amazon.in' + product.find('a', {'class': 'a-link-normal s-no-outline'}).get('href')\n",
    "        product_name = product.find('span', {'class': 'a-size-medium a-color-base a-text-normal'}).text.strip()\n",
    "        product_price = product.find('span', {'class': 'a-offscreen'}).text.strip()\n",
    "        rating = product.find('span', {'class': 'a-icon-alt'}).text.strip().split()[0]\n",
    "        num_reviews = product.find('span', {'class': 'a-size-base'}).text.strip()\n",
    "        \n",
    "        product_data['Product URL'] = product_url\n",
    "        product_data['Product Name'] = product_name\n",
    "        product_data['Product Price'] = product_price\n",
    "        product_data['Rating'] = rating\n",
    "        product_data['Number of Reviews'] = num_reviews\n",
    "        \n",
    "        product_list.append(product_data)\n",
    "    \n",
    "    return product_list"
   ]
  },
  {
   "cell_type": "code",
   "execution_count": 3,
   "id": "c8323c57",
   "metadata": {},
   "outputs": [],
   "source": [
    "def scraping_product_details(url):\n",
    "    headers = {\n",
    "        'User-Agent': 'Mozilla/5.0 (Windows NT 10.0; Win64; x64) AppleWebKit/537.36 (KHTML, like Gecko) Chrome/58.0.3029.110 Safari/537.3'}\n",
    "    response = requests.get(url, headers=headers)\n",
    "    soup = BeautifulSoup(response.content, 'html.parser')\n",
    "    product_details = {}\n",
    "    \n",
    "    try:\n",
    "        description = soup.find('div', {'id': 'productDescription'}).text.strip()\n",
    "    except AttributeError:\n",
    "        description = ''\n",
    "    \n",
    "    try:\n",
    "        asin = soup.find('th', text='ASIN').find_next('td').text.strip()\n",
    "    except AttributeError:\n",
    "        asin = ''\n",
    "    \n",
    "    try:\n",
    "        product_description = soup.find('div', {'id': 'feature-bullets'}).text.strip()\n",
    "    except AttributeError:\n",
    "        product_description = ''\n",
    "    \n",
    "    try:\n",
    "        manufacturer = soup.find('a', {'id': 'bylineInfo'}).text.strip()\n",
    "    except AttributeError:\n",
    "        manufacturer = ''\n",
    "    \n",
    "    product_details['Description'] = description\n",
    "    product_details['ASIN'] = asin\n",
    "    product_details['Product Description'] = product_description\n",
    "    product_details['Manufacturer'] = manufacturer\n",
    "    \n",
    "    return product_details"
   ]
  },
  {
   "cell_type": "code",
   "execution_count": 4,
   "id": "a3139345",
   "metadata": {},
   "outputs": [],
   "source": [
    "base_url = 'https://www.amazon.in/s?k=bags&crid=2M096C61O4MLT&qid=1653308124&sprefix=ba%2Caps%2C283&ref=sr_pg_'\n",
    "product_list = []"
   ]
  },
  {
   "cell_type": "code",
   "execution_count": 5,
   "id": "6d13ac33",
   "metadata": {},
   "outputs": [],
   "source": [
    "for page in range(1, 21):\n",
    "    url = base_url + str(page)\n",
    "    product_list.extend(scraping_product_list(url))"
   ]
  },
  {
   "cell_type": "code",
   "execution_count": 6,
   "id": "b28928e4",
   "metadata": {},
   "outputs": [],
   "source": [
    "# Scraping product details\n",
    "product_details_list = []\n",
    "counter = 0"
   ]
  },
  {
   "cell_type": "code",
   "execution_count": 7,
   "id": "d12ab58a",
   "metadata": {},
   "outputs": [
    {
     "name": "stdout",
     "output_type": "stream",
     "text": [
      "Scraping ProductURL: https://www.amazon.in/Skybags-Brat-Black-Casual-Backpack/dp/B08Z1HHHTD/ref=sr_1_1?crid=2M096C61O4MLT&keywords=bags&qid=1688627200&sprefix=ba%2Caps%2C283&sr=8-1 (1/32)\n"
     ]
    },
    {
     "name": "stderr",
     "output_type": "stream",
     "text": [
      "C:\\Users\\HP\\AppData\\Local\\Temp/ipykernel_9984/3436384438.py:14: DeprecationWarning: The 'text' argument to find()-type methods is deprecated. Use 'string' instead.\n",
      "  asin = soup.find('th', text='ASIN').find_next('td').text.strip()\n"
     ]
    },
    {
     "name": "stdout",
     "output_type": "stream",
     "text": [
      "Scraping ProductURL: https://www.amazon.in/American-Tourister-AMT-SCH-02/dp/B07CJCGM1M/ref=sr_1_2?crid=2M096C61O4MLT&keywords=bags&qid=1688627200&sprefix=ba%2Caps%2C283&sr=8-2 (2/32)\n",
      "Scraping ProductURL: https://www.amazon.in/Wesley-Milestone-Waterproof-Backpack-Business/dp/B084JGJ8PF/ref=sr_1_3?crid=2M096C61O4MLT&keywords=bags&qid=1688627200&sprefix=ba%2Caps%2C283&sr=8-3 (3/32)\n",
      "Scraping ProductURL: https://www.amazon.in/Half-Moon-Waterproof-Backpack-Students/dp/B085MHDJ93/ref=sr_1_4?crid=2M096C61O4MLT&keywords=bags&qid=1688627200&sprefix=ba%2Caps%2C283&sr=8-4 (4/32)\n",
      "Scraping ProductURL: https://www.amazon.in/Gear-Black-Laptop-Backpack-LBPASPIRE0104/dp/B075MK4TXP/ref=sr_1_5?crid=2M096C61O4MLT&keywords=bags&qid=1688627200&sprefix=ba%2Caps%2C283&sr=8-5 (5/32)\n",
      "Scraping ProductURL: https://www.amazon.in/Number-Backpack-Compartment-Charging-Organizer/dp/B09VTDMRY7/ref=sr_1_6?crid=2M096C61O4MLT&keywords=bags&qid=1688627200&sprefix=ba%2Caps%2C283&sr=8-6 (6/32)\n",
      "Scraping ProductURL: https://www.amazon.in/Rucksack-Travel-Backpack-Trekking-Compartment/dp/B07YDGQQN5/ref=sr_1_7?crid=2M096C61O4MLT&keywords=bags&qid=1688627200&sprefix=ba%2Caps%2C283&sr=8-7 (7/32)\n",
      "Scraping ProductURL: https://www.amazon.in/American-Tourister-BACKPACK-COMPARTMENT-ORGANIZER/dp/B0BTD4S4XF/ref=sr_1_8?crid=2M096C61O4MLT&keywords=bags&qid=1688627200&sprefix=ba%2Caps%2C283&sr=8-8 (8/32)\n",
      "Scraping ProductURL: https://www.amazon.in/Half-Moon-Resistant-Backpack-Compartment/dp/B0BJ32LQ6X/ref=sr_1_9?crid=2M096C61O4MLT&keywords=bags&qid=1688627200&sprefix=ba%2Caps%2C283&sr=8-9 (9/32)\n",
      "Scraping ProductURL: https://www.amazon.in/ADISA-Laptop-Backpack-Office-College/dp/B0BPVLXD53/ref=sr_1_10?crid=2M096C61O4MLT&keywords=bags&qid=1688627200&sprefix=ba%2Caps%2C283&sr=8-10 (10/32)\n",
      "Scraping ProductURL: https://www.amazon.in/American-Tourister-BACKPACK-COMPARTMENT-ORGANIZER/dp/B0BTD4FK9G/ref=sr_1_11?crid=2M096C61O4MLT&keywords=bags&qid=1688627200&sprefix=ba%2Caps%2C283&sr=8-11 (11/32)\n",
      "Scraping ProductURL: https://www.amazon.in/SAFARI-Ltrs-Casual-Backpack-DAYPACKNEO15CBSEB/dp/B07Q7CNPMV/ref=sr_1_12?crid=2M096C61O4MLT&keywords=bags&qid=1688627200&sprefix=ba%2Caps%2C283&sr=8-12 (12/32)\n",
      "Scraping ProductURL: https://www.amazon.in/ADISA-Laptop-Backpack-Office-College/dp/B09TPX22NF/ref=sr_1_13?crid=2M096C61O4MLT&keywords=bags&qid=1688627200&sprefix=ba%2Caps%2C283&sr=8-13 (13/32)\n",
      "Scraping ProductURL: https://www.amazon.in/SFANE-Duffel-Shoulder-Women-Compartment/dp/B07XXFB9CZ/ref=sr_1_14?crid=2M096C61O4MLT&keywords=bags&qid=1688627200&sprefix=ba%2Caps%2C283&sr=8-14 (14/32)\n",
      "Scraping ProductURL: https://www.amazon.in/FUR-JADEN-Leatherette-Polypropylene-DUFF05/dp/B07M9BRCQ5/ref=sr_1_15?crid=2M096C61O4MLT&keywords=bags&qid=1688627200&sprefix=ba%2Caps%2C283&sr=8-15 (15/32)\n",
      "Scraping ProductURL: https://www.amazon.in/TRUE-HUMAN-Anti-Theft-backpack-charging/dp/B09QJ7ZF2Y/ref=sr_1_16?crid=2M096C61O4MLT&keywords=bags&qid=1688627200&sprefix=ba%2Caps%2C283&sr=8-16 (16/32)\n",
      "Scraping ProductURL: https://www.amazon.in/Skybags-Brat-Black-Casual-Backpack/dp/B08Z1HHHTD/ref=sr_1_1?crid=2M096C61O4MLT&keywords=bags&qid=1688627204&sprefix=ba%2Caps%2C283&sr=8-1 (17/32)\n",
      "Scraping ProductURL: https://www.amazon.in/American-Tourister-AMT-SCH-02/dp/B07CJCGM1M/ref=sr_1_2?crid=2M096C61O4MLT&keywords=bags&qid=1688627204&sprefix=ba%2Caps%2C283&sr=8-2 (18/32)\n",
      "Scraping ProductURL: https://www.amazon.in/Wesley-Milestone-Waterproof-Backpack-Business/dp/B084JGJ8PF/ref=sr_1_3?crid=2M096C61O4MLT&keywords=bags&qid=1688627204&sprefix=ba%2Caps%2C283&sr=8-3 (19/32)\n",
      "Scraping ProductURL: https://www.amazon.in/Half-Moon-Waterproof-Backpack-Students/dp/B085MHDJ93/ref=sr_1_4?crid=2M096C61O4MLT&keywords=bags&qid=1688627204&sprefix=ba%2Caps%2C283&sr=8-4 (20/32)\n",
      "Scraping ProductURL: https://www.amazon.in/Gear-Black-Laptop-Backpack-LBPASPIRE0104/dp/B075MK4TXP/ref=sr_1_5?crid=2M096C61O4MLT&keywords=bags&qid=1688627204&sprefix=ba%2Caps%2C283&sr=8-5 (21/32)\n",
      "Scraping ProductURL: https://www.amazon.in/Number-Backpack-Compartment-Charging-Organizer/dp/B09VTDMRY7/ref=sr_1_6?crid=2M096C61O4MLT&keywords=bags&qid=1688627204&sprefix=ba%2Caps%2C283&sr=8-6 (22/32)\n",
      "Scraping ProductURL: https://www.amazon.in/Rucksack-Travel-Backpack-Trekking-Compartment/dp/B07YDGQQN5/ref=sr_1_7?crid=2M096C61O4MLT&keywords=bags&qid=1688627204&sprefix=ba%2Caps%2C283&sr=8-7 (23/32)\n",
      "Scraping ProductURL: https://www.amazon.in/American-Tourister-BACKPACK-COMPARTMENT-ORGANIZER/dp/B0BTD4S4XF/ref=sr_1_8?crid=2M096C61O4MLT&keywords=bags&qid=1688627204&sprefix=ba%2Caps%2C283&sr=8-8 (24/32)\n",
      "Scraping ProductURL: https://www.amazon.in/Half-Moon-Resistant-Backpack-Compartment/dp/B0BJ32LQ6X/ref=sr_1_9?crid=2M096C61O4MLT&keywords=bags&qid=1688627204&sprefix=ba%2Caps%2C283&sr=8-9 (25/32)\n",
      "Scraping ProductURL: https://www.amazon.in/ADISA-Laptop-Backpack-Office-College/dp/B0BPVLXD53/ref=sr_1_10?crid=2M096C61O4MLT&keywords=bags&qid=1688627204&sprefix=ba%2Caps%2C283&sr=8-10 (26/32)\n",
      "Scraping ProductURL: https://www.amazon.in/American-Tourister-BACKPACK-COMPARTMENT-ORGANIZER/dp/B0BTD4FK9G/ref=sr_1_11?crid=2M096C61O4MLT&keywords=bags&qid=1688627204&sprefix=ba%2Caps%2C283&sr=8-11 (27/32)\n",
      "Scraping ProductURL: https://www.amazon.in/SAFARI-Ltrs-Casual-Backpack-DAYPACKNEO15CBSEB/dp/B07Q7CNPMV/ref=sr_1_12?crid=2M096C61O4MLT&keywords=bags&qid=1688627204&sprefix=ba%2Caps%2C283&sr=8-12 (28/32)\n",
      "Scraping ProductURL: https://www.amazon.in/ADISA-Laptop-Backpack-Office-College/dp/B09TPX22NF/ref=sr_1_13?crid=2M096C61O4MLT&keywords=bags&qid=1688627204&sprefix=ba%2Caps%2C283&sr=8-13 (29/32)\n",
      "Scraping ProductURL: https://www.amazon.in/SFANE-Duffel-Shoulder-Women-Compartment/dp/B07XXFB9CZ/ref=sr_1_14?crid=2M096C61O4MLT&keywords=bags&qid=1688627204&sprefix=ba%2Caps%2C283&sr=8-14 (30/32)\n",
      "Scraping ProductURL: https://www.amazon.in/FUR-JADEN-Leatherette-Polypropylene-DUFF05/dp/B07M9BRCQ5/ref=sr_1_15?crid=2M096C61O4MLT&keywords=bags&qid=1688627204&sprefix=ba%2Caps%2C283&sr=8-15 (31/32)\n",
      "Scraping ProductURL: https://www.amazon.in/TRUE-HUMAN-Anti-Theft-backpack-charging/dp/B09QJ7ZF2Y/ref=sr_1_16?crid=2M096C61O4MLT&keywords=bags&qid=1688627204&sprefix=ba%2Caps%2C283&sr=8-16 (32/32)\n"
     ]
    }
   ],
   "source": [
    "for product in product_list[:200]:  # Limiting to 200 products\n",
    "    counter += 1\n",
    "    print(f\"Scraping ProductURL: {product['Product URL']} ({counter}/{len(product_list[:200])})\")\n",
    "    product_details = scraping_product_details(product['Product URL'])\n",
    "    product_details_list.append(product_details)"
   ]
  },
  {
   "cell_type": "code",
   "execution_count": 8,
   "id": "1b52759f",
   "metadata": {},
   "outputs": [],
   "source": [
    "# Exporting data to CSV\n",
    "filename = 'amazon_products.csv'\n",
    "fieldnames = ['Product URL', 'Product Name', 'Product Price', 'Rating', 'Number of Reviews',\n",
    "              'Description', 'ASIN', 'Product Description', 'Manufacturer']"
   ]
  },
  {
   "cell_type": "code",
   "execution_count": 9,
   "id": "ec49ec33",
   "metadata": {},
   "outputs": [],
   "source": [
    "with open(filename, 'w', newline='', encoding='utf-8') as file:\n",
    "    writer = csv.DictWriter(file, fieldnames=fieldnames)\n",
    "    writer.writeheader()\n",
    "    \n",
    "    for product, details in zip(product_list[:200], product_details_list):\n",
    "        row = {**product, **details}\n",
    "        writer.writerow(row)"
   ]
  },
  {
   "cell_type": "code",
   "execution_count": 10,
   "id": "a1631feb",
   "metadata": {},
   "outputs": [
    {
     "name": "stdout",
     "output_type": "stream",
     "text": [
      "amazon_products.csv\n"
     ]
    }
   ],
   "source": [
    "print(filename)"
   ]
  },
  {
   "cell_type": "code",
   "execution_count": null,
   "id": "82186540",
   "metadata": {},
   "outputs": [],
   "source": []
  }
 ],
 "metadata": {
  "kernelspec": {
   "display_name": "Python 3 (ipykernel)",
   "language": "python",
   "name": "python3"
  },
  "language_info": {
   "codemirror_mode": {
    "name": "ipython",
    "version": 3
   },
   "file_extension": ".py",
   "mimetype": "text/x-python",
   "name": "python",
   "nbconvert_exporter": "python",
   "pygments_lexer": "ipython3",
   "version": "3.9.5"
  }
 },
 "nbformat": 4,
 "nbformat_minor": 5
}
